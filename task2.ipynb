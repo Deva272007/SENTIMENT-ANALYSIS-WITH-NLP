{
 "cells": [
  {
   "cell_type": "code",
   "execution_count": 9,
   "id": "77414831-81ea-4986-8263-579470d3cf93",
   "metadata": {},
   "outputs": [
    {
     "name": "stdout",
     "output_type": "stream",
     "text": [
      "✅ Accuracy: 0.8904\n",
      "📊 Report:\n",
      "               precision    recall  f1-score   support\n",
      "\n",
      "           0       0.90      0.87      0.89      4961\n",
      "           1       0.88      0.91      0.89      5039\n",
      "\n",
      "    accuracy                           0.89     10000\n",
      "   macro avg       0.89      0.89      0.89     10000\n",
      "weighted avg       0.89      0.89      0.89     10000\n",
      "\n",
      "\n",
      "📝 Predictions:\n",
      "This movie was a total masterpiece! ➜ Positive\n",
      "The worst acting I have ever seen. ➜ Negative\n",
      "Average film. Not good, not bad. ➜ Negative\n",
      "What a beautiful story and music! ➜ Positive\n"
     ]
    }
   ],
   "source": [
    "# Step 1: Import libraries\n",
    "import pandas as pd\n",
    "from sklearn.model_selection import train_test_split\n",
    "from sklearn.feature_extraction.text import TfidfVectorizer\n",
    "from sklearn.linear_model import LogisticRegression\n",
    "from sklearn.metrics import accuracy_score, classification_report\n",
    "\n",
    "# Step 2: Load IMDb dataset from local file\n",
    "df = pd.read_csv(\"/home/rguktrkvalley/Music/IMDB Dataset.csv\") \n",
    "\n",
    "# Step 3: Prepare features and labels\n",
    "X = df['review']\n",
    "y = df['sentiment'].map({'positive': 1, 'negative': 0})\n",
    "\n",
    "# Step 4: Split dataset\n",
    "X_train, X_test, y_train, y_test = train_test_split(X, y, test_size=0.2, random_state=42)\n",
    "\n",
    "# Step 5: TF-IDF vectorization\n",
    "vectorizer = TfidfVectorizer(max_features=10000, stop_words='english')\n",
    "X_train_vec = vectorizer.fit_transform(X_train)\n",
    "X_test_vec = vectorizer.transform(X_test)\n",
    "\n",
    "# Step 6: Train model\n",
    "model = LogisticRegression(max_iter=1000)\n",
    "model.fit(X_train_vec, y_train)\n",
    "\n",
    "# Step 7: Evaluate\n",
    "y_pred = model.predict(X_test_vec)\n",
    "print(\"✅ Accuracy:\", accuracy_score(y_test, y_pred))\n",
    "print(\"📊 Report:\\n\", classification_report(y_test, y_pred, zero_division=0))\n",
    "\n",
    "# Step 8: Predict new samples\n",
    "new_reviews = [\n",
    "    \"This movie was a total masterpiece!\",\n",
    "    \"The worst acting I have ever seen.\",\n",
    "    \"Average film. Not good, not bad.\",\n",
    "    \"What a beautiful story and music!\"\n",
    "]\n",
    "new_vec = vectorizer.transform(new_reviews)\n",
    "preds = model.predict(new_vec)\n",
    "\n",
    "print(\"\\n📝 Predictions:\")\n",
    "for review, label in zip(new_reviews, preds):\n",
    "    sentiment = \"Positive\" if label == 1 else \"Negative\"\n",
    "    print(f\"{review} ➜ {sentiment}\")\n"
   ]
  },
  {
   "cell_type": "code",
   "execution_count": null,
   "id": "49074d75-0bc7-4719-ada0-9da6e6e09a7f",
   "metadata": {},
   "outputs": [],
   "source": []
  },
  {
   "cell_type": "code",
   "execution_count": null,
   "id": "776ef2fc-c4e3-489a-98e4-8086a9fdd0bb",
   "metadata": {},
   "outputs": [],
   "source": []
  },
  {
   "cell_type": "code",
   "execution_count": null,
   "id": "69073f30-6afc-495f-b7e2-1691b23dc7b3",
   "metadata": {},
   "outputs": [],
   "source": []
  }
 ],
 "metadata": {
  "kernelspec": {
   "display_name": "Python 3 (ipykernel)",
   "language": "python",
   "name": "python3"
  },
  "language_info": {
   "codemirror_mode": {
    "name": "ipython",
    "version": 3
   },
   "file_extension": ".py",
   "mimetype": "text/x-python",
   "name": "python",
   "nbconvert_exporter": "python",
   "pygments_lexer": "ipython3",
   "version": "3.8.10"
  }
 },
 "nbformat": 4,
 "nbformat_minor": 5
}
